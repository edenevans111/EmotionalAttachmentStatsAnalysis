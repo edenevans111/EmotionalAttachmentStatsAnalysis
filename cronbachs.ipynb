{
 "cells": [
  {
   "cell_type": "code",
   "execution_count": 23,
   "id": "ea5bd0fa",
   "metadata": {},
   "outputs": [],
   "source": [
    "import pandas as pd\n",
    "import numpy as np\n",
    "import matplotlib.pyplot as plt\n",
    "from sklearn.preprocessing import OrdinalEncoder\n",
    "import pingouin as pg"
   ]
  },
  {
   "cell_type": "code",
   "execution_count": 24,
   "id": "dfb1aa9d",
   "metadata": {},
   "outputs": [
    {
     "name": "stdout",
     "output_type": "stream",
     "text": [
      "   Unnamed: 0      id  Gender  Customer Type  Age  Type of Travel  Class  \\\n",
      "0           0   70172     1.0            0.0   13             1.0    2.0   \n",
      "1           1    5047     1.0            1.0   25             0.0    0.0   \n",
      "2           2  110028     0.0            0.0   26             0.0    0.0   \n",
      "3           3   24026     0.0            0.0   25             0.0    0.0   \n",
      "4           4  119299     1.0            0.0   61             0.0    0.0   \n",
      "\n",
      "   Flight Distance  Inflight wifi service  Departure/Arrival time convenient  \\\n",
      "0              460                      3                                  4   \n",
      "1              235                      3                                  2   \n",
      "2             1142                      2                                  2   \n",
      "3              562                      2                                  5   \n",
      "4              214                      3                                  3   \n",
      "\n",
      "   ...  Inflight entertainment  On-board service  Leg room service  \\\n",
      "0  ...                       5                 4                 3   \n",
      "1  ...                       1                 1                 5   \n",
      "2  ...                       5                 4                 3   \n",
      "3  ...                       2                 2                 5   \n",
      "4  ...                       3                 3                 4   \n",
      "\n",
      "   Baggage handling  Checkin service  Inflight service  Cleanliness  \\\n",
      "0                 4                4                 5            5   \n",
      "1                 3                1                 4            1   \n",
      "2                 4                4                 4            5   \n",
      "3                 3                1                 4            2   \n",
      "4                 4                3                 3            3   \n",
      "\n",
      "   Departure Delay in Minutes  Arrival Delay in Minutes  satisfaction  \n",
      "0                          25                      18.0           0.0  \n",
      "1                           1                       6.0           0.0  \n",
      "2                           0                       0.0           1.0  \n",
      "3                          11                       9.0           0.0  \n",
      "4                           0                       0.0           1.0  \n",
      "\n",
      "[5 rows x 25 columns]\n"
     ]
    }
   ],
   "source": [
    "# read in the file and clean up the data\n",
    "df = pd.read_csv('train.csv')\n",
    "\n",
    "enc = OrdinalEncoder()\n",
    "col_to_encode = ['Gender', 'Customer Type', 'Type of Travel', 'Class', 'satisfaction']\n",
    "df[col_to_encode] = enc.fit_transform(df[col_to_encode])\n",
    "print(df.head())\n",
    "\n",
    "X = df.iloc[:, 1:]\n"
   ]
  },
  {
   "cell_type": "code",
   "execution_count": 25,
   "id": "45c97614",
   "metadata": {},
   "outputs": [
    {
     "data": {
      "text/plain": [
       "(np.float64(0.00626419880753309), array([-0.002,  0.015]))"
      ]
     },
     "execution_count": 25,
     "metadata": {},
     "output_type": "execute_result"
    }
   ],
   "source": [
    "X = df.iloc[:, 1:]\n",
    "pg.cronbach_alpha(data=df)"
   ]
  },
  {
   "cell_type": "code",
   "execution_count": null,
   "id": "d4e86a7a",
   "metadata": {},
   "outputs": [],
   "source": []
  }
 ],
 "metadata": {
  "kernelspec": {
   "display_name": "base",
   "language": "python",
   "name": "python3"
  },
  "language_info": {
   "codemirror_mode": {
    "name": "ipython",
    "version": 3
   },
   "file_extension": ".py",
   "mimetype": "text/x-python",
   "name": "python",
   "nbconvert_exporter": "python",
   "pygments_lexer": "ipython3",
   "version": "3.11.4"
  }
 },
 "nbformat": 4,
 "nbformat_minor": 5
}
